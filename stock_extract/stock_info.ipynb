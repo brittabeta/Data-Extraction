{
 "cells": [
  {
   "cell_type": "code",
   "execution_count": 1,
   "metadata": {},
   "outputs": [
    {
     "name": "stdout",
     "output_type": "stream",
     "text": [
      "Collecting yfinance\n",
      "  Downloading yfinance-0.2.18-py2.py3-none-any.whl (60 kB)\n",
      "\u001b[2K     \u001b[90m━━━━━━━━━━━━━━━━━━━━━━━━━━━━━━━━━━━━━━━━\u001b[0m \u001b[32m60.3/60.3 kB\u001b[0m \u001b[31m2.9 MB/s\u001b[0m eta \u001b[36m0:00:00\u001b[0m\n",
      "\u001b[?25hRequirement already satisfied: pandas>=1.3.0 in /home/codespace/.local/lib/python3.10/site-packages (from yfinance) (2.0.1)\n",
      "Requirement already satisfied: numpy>=1.16.5 in /home/codespace/.local/lib/python3.10/site-packages (from yfinance) (1.24.3)\n",
      "Requirement already satisfied: requests>=2.26 in /home/codespace/.local/lib/python3.10/site-packages (from yfinance) (2.28.2)\n",
      "Collecting multitasking>=0.0.7 (from yfinance)\n",
      "  Downloading multitasking-0.0.11-py3-none-any.whl (8.5 kB)\n",
      "Requirement already satisfied: lxml>=4.9.1 in /usr/local/python/3.10.4/lib/python3.10/site-packages (from yfinance) (4.9.2)\n",
      "Collecting appdirs>=1.4.4 (from yfinance)\n",
      "  Downloading appdirs-1.4.4-py2.py3-none-any.whl (9.6 kB)\n",
      "Requirement already satisfied: pytz>=2022.5 in /home/codespace/.local/lib/python3.10/site-packages (from yfinance) (2023.3)\n",
      "Collecting frozendict>=2.3.4 (from yfinance)\n",
      "  Downloading frozendict-2.3.8-cp310-cp310-manylinux_2_17_x86_64.manylinux2014_x86_64.whl (115 kB)\n",
      "\u001b[2K     \u001b[90m━━━━━━━━━━━━━━━━━━━━━━━━━━━━━━━━━━━━━━━\u001b[0m \u001b[32m115.3/115.3 kB\u001b[0m \u001b[31m4.9 MB/s\u001b[0m eta \u001b[36m0:00:00\u001b[0m\n",
      "\u001b[?25hRequirement already satisfied: cryptography>=3.3.2 in /home/codespace/.local/lib/python3.10/site-packages (from yfinance) (40.0.2)\n",
      "Requirement already satisfied: beautifulsoup4>=4.11.1 in /home/codespace/.local/lib/python3.10/site-packages (from yfinance) (4.12.2)\n",
      "Collecting html5lib>=1.1 (from yfinance)\n",
      "  Downloading html5lib-1.1-py2.py3-none-any.whl (112 kB)\n",
      "\u001b[2K     \u001b[90m━━━━━━━━━━━━━━━━━━━━━━━━━━━━━━━━━━━━━━━\u001b[0m \u001b[32m112.2/112.2 kB\u001b[0m \u001b[31m6.2 MB/s\u001b[0m eta \u001b[36m0:00:00\u001b[0m\n",
      "\u001b[?25hRequirement already satisfied: soupsieve>1.2 in /home/codespace/.local/lib/python3.10/site-packages (from beautifulsoup4>=4.11.1->yfinance) (2.4.1)\n",
      "Requirement already satisfied: cffi>=1.12 in /home/codespace/.local/lib/python3.10/site-packages (from cryptography>=3.3.2->yfinance) (1.15.1)\n",
      "Requirement already satisfied: six>=1.9 in /home/codespace/.local/lib/python3.10/site-packages (from html5lib>=1.1->yfinance) (1.16.0)\n",
      "Requirement already satisfied: webencodings in /home/codespace/.local/lib/python3.10/site-packages (from html5lib>=1.1->yfinance) (0.5.1)\n",
      "Requirement already satisfied: python-dateutil>=2.8.2 in /home/codespace/.local/lib/python3.10/site-packages (from pandas>=1.3.0->yfinance) (2.8.2)\n",
      "Requirement already satisfied: tzdata>=2022.1 in /home/codespace/.local/lib/python3.10/site-packages (from pandas>=1.3.0->yfinance) (2023.3)\n",
      "Requirement already satisfied: charset-normalizer<4,>=2 in /home/codespace/.local/lib/python3.10/site-packages (from requests>=2.26->yfinance) (3.1.0)\n",
      "Requirement already satisfied: idna<4,>=2.5 in /home/codespace/.local/lib/python3.10/site-packages (from requests>=2.26->yfinance) (3.4)\n",
      "Requirement already satisfied: urllib3<1.27,>=1.21.1 in /home/codespace/.local/lib/python3.10/site-packages (from requests>=2.26->yfinance) (1.26.15)\n",
      "Requirement already satisfied: certifi>=2017.4.17 in /home/codespace/.local/lib/python3.10/site-packages (from requests>=2.26->yfinance) (2022.12.7)\n",
      "Requirement already satisfied: pycparser in /home/codespace/.local/lib/python3.10/site-packages (from cffi>=1.12->cryptography>=3.3.2->yfinance) (2.21)\n",
      "Installing collected packages: multitasking, appdirs, html5lib, frozendict, yfinance\n",
      "Successfully installed appdirs-1.4.4 frozendict-2.3.8 html5lib-1.1 multitasking-0.0.11 yfinance-0.2.18\n",
      "\n",
      "\u001b[1m[\u001b[0m\u001b[34;49mnotice\u001b[0m\u001b[1;39;49m]\u001b[0m\u001b[39;49m A new release of pip is available: \u001b[0m\u001b[31;49m23.1.1\u001b[0m\u001b[39;49m -> \u001b[0m\u001b[32;49m23.1.2\u001b[0m\n",
      "\u001b[1m[\u001b[0m\u001b[34;49mnotice\u001b[0m\u001b[1;39;49m]\u001b[0m\u001b[39;49m To update, run: \u001b[0m\u001b[32;49mpython -m pip install --upgrade pip\u001b[0m\n"
     ]
    }
   ],
   "source": [
    "!pip install yfinance"
   ]
  },
  {
   "cell_type": "code",
   "execution_count": 5,
   "metadata": {},
   "outputs": [],
   "source": [
    "import yfinance as yf\n",
    "import pandas as pd"
   ]
  },
  {
   "cell_type": "code",
   "execution_count": 6,
   "metadata": {},
   "outputs": [],
   "source": [
    "from datetime import date"
   ]
  },
  {
   "cell_type": "code",
   "execution_count": 7,
   "metadata": {},
   "outputs": [],
   "source": [
    "stocks = ['HUBG', 'MU', 'NRG', 'RS', 'STLD', 'TROX', 'WDC']"
   ]
  },
  {
   "cell_type": "code",
   "execution_count": 8,
   "metadata": {},
   "outputs": [
    {
     "data": {
      "text/plain": [
       "'May-23-2023'"
      ]
     },
     "execution_count": 8,
     "metadata": {},
     "output_type": "execute_result"
    }
   ],
   "source": [
    "today = date.today().strftime(\"%b-%d-%Y\")\n",
    "today"
   ]
  },
  {
   "cell_type": "code",
   "execution_count": 9,
   "metadata": {},
   "outputs": [
    {
     "data": {
      "text/html": [
       "<div>\n",
       "<style scoped>\n",
       "    .dataframe tbody tr th:only-of-type {\n",
       "        vertical-align: middle;\n",
       "    }\n",
       "\n",
       "    .dataframe tbody tr th {\n",
       "        vertical-align: top;\n",
       "    }\n",
       "\n",
       "    .dataframe thead th {\n",
       "        text-align: right;\n",
       "    }\n",
       "</style>\n",
       "<table border=\"1\" class=\"dataframe\">\n",
       "  <thead>\n",
       "    <tr style=\"text-align: right;\">\n",
       "      <th></th>\n",
       "      <th>Name</th>\n",
       "      <th>Symbol</th>\n",
       "      <th>Sector</th>\n",
       "      <th>Price</th>\n",
       "      <th>PriceToBook</th>\n",
       "      <th>DeptToEquity</th>\n",
       "      <th>ForwardEPS</th>\n",
       "      <th>TrailingEPS</th>\n",
       "      <th>ProfitMargins</th>\n",
       "      <th>RevenueGrowth</th>\n",
       "      <th>ShortRatio</th>\n",
       "      <th>ReturnOnAssets</th>\n",
       "      <th>ExtractDate</th>\n",
       "    </tr>\n",
       "  </thead>\n",
       "  <tbody>\n",
       "    <tr>\n",
       "      <th>0</th>\n",
       "      <td>Hub Group, Inc.</td>\n",
       "      <td>HUBG</td>\n",
       "      <td>Industrials</td>\n",
       "      <td>75.19</td>\n",
       "      <td>1.510810</td>\n",
       "      <td>31.294</td>\n",
       "      <td>7.17</td>\n",
       "      <td>10.10</td>\n",
       "      <td>0.06376</td>\n",
       "      <td>-0.112</td>\n",
       "      <td>2.20</td>\n",
       "      <td>0.10159</td>\n",
       "      <td>May-23-2023</td>\n",
       "    </tr>\n",
       "    <tr>\n",
       "      <th>1</th>\n",
       "      <td>Micron Technology, Inc.</td>\n",
       "      <td>MU</td>\n",
       "      <td>Technology</td>\n",
       "      <td>66.23</td>\n",
       "      <td>1.533208</td>\n",
       "      <td>27.391</td>\n",
       "      <td>0.63</td>\n",
       "      <td>1.41</td>\n",
       "      <td>0.06985</td>\n",
       "      <td>-0.526</td>\n",
       "      <td>1.23</td>\n",
       "      <td>0.01993</td>\n",
       "      <td>May-23-2023</td>\n",
       "    </tr>\n",
       "    <tr>\n",
       "      <th>2</th>\n",
       "      <td>NRG Energy, Inc.</td>\n",
       "      <td>NRG</td>\n",
       "      <td>Utilities</td>\n",
       "      <td>34.03</td>\n",
       "      <td>3.220403</td>\n",
       "      <td>409.351</td>\n",
       "      <td>6.08</td>\n",
       "      <td>-7.82</td>\n",
       "      <td>-0.05897</td>\n",
       "      <td>-0.022</td>\n",
       "      <td>4.89</td>\n",
       "      <td>-0.03980</td>\n",
       "      <td>May-23-2023</td>\n",
       "    </tr>\n",
       "    <tr>\n",
       "      <th>3</th>\n",
       "      <td>Reliance Steel &amp; Aluminum Co.</td>\n",
       "      <td>RS</td>\n",
       "      <td>Basic Materials</td>\n",
       "      <td>245.43</td>\n",
       "      <td>1.965925</td>\n",
       "      <td>18.589</td>\n",
       "      <td>20.38</td>\n",
       "      <td>28.01</td>\n",
       "      <td>0.10300</td>\n",
       "      <td>-0.116</td>\n",
       "      <td>1.67</td>\n",
       "      <td>0.14174</td>\n",
       "      <td>May-23-2023</td>\n",
       "    </tr>\n",
       "    <tr>\n",
       "      <th>4</th>\n",
       "      <td>Steel Dynamics, Inc.</td>\n",
       "      <td>STLD</td>\n",
       "      <td>Basic Materials</td>\n",
       "      <td>97.19</td>\n",
       "      <td>1.983874</td>\n",
       "      <td>36.849</td>\n",
       "      <td>9.62</td>\n",
       "      <td>18.91</td>\n",
       "      <td>0.15734</td>\n",
       "      <td>-0.121</td>\n",
       "      <td>3.52</td>\n",
       "      <td>0.20312</td>\n",
       "      <td>May-23-2023</td>\n",
       "    </tr>\n",
       "  </tbody>\n",
       "</table>\n",
       "</div>"
      ],
      "text/plain": [
       "                            Name Symbol           Sector   Price  PriceToBook   \n",
       "0                Hub Group, Inc.   HUBG      Industrials   75.19     1.510810  \\\n",
       "1        Micron Technology, Inc.     MU       Technology   66.23     1.533208   \n",
       "2               NRG Energy, Inc.    NRG        Utilities   34.03     3.220403   \n",
       "3  Reliance Steel & Aluminum Co.     RS  Basic Materials  245.43     1.965925   \n",
       "4           Steel Dynamics, Inc.   STLD  Basic Materials   97.19     1.983874   \n",
       "\n",
       "   DeptToEquity  ForwardEPS  TrailingEPS  ProfitMargins  RevenueGrowth   \n",
       "0        31.294        7.17        10.10        0.06376         -0.112  \\\n",
       "1        27.391        0.63         1.41        0.06985         -0.526   \n",
       "2       409.351        6.08        -7.82       -0.05897         -0.022   \n",
       "3        18.589       20.38        28.01        0.10300         -0.116   \n",
       "4        36.849        9.62        18.91        0.15734         -0.121   \n",
       "\n",
       "   ShortRatio  ReturnOnAssets  ExtractDate  \n",
       "0        2.20         0.10159  May-23-2023  \n",
       "1        1.23         0.01993  May-23-2023  \n",
       "2        4.89        -0.03980  May-23-2023  \n",
       "3        1.67         0.14174  May-23-2023  \n",
       "4        3.52         0.20312  May-23-2023  "
      ]
     },
     "execution_count": 9,
     "metadata": {},
     "output_type": "execute_result"
    }
   ],
   "source": [
    "info_list = []\n",
    "for stock in stocks:\n",
    "    tick = yf.Ticker(stock)\n",
    "    info = tick.info\n",
    "    name = info['longName']\n",
    "    symbol = info['symbol']\n",
    "    sector = info['sector']\n",
    "    price = info['currentPrice']\n",
    "    priceToBook = info['priceToBook']\n",
    "    debtToEquity = info['debtToEquity']\n",
    "    forwardEps = info['forwardEps']\n",
    "    trailingEps = info['trailingEps']\n",
    "    profitMargins = info['profitMargins']\n",
    "    revenueGrowth = info['revenueGrowth']\n",
    "    shortRatio = info['shortRatio']\n",
    "    returnOnAssets = info['returnOnAssets']\n",
    "    dict = {'Name': name, 'Symbol': symbol, 'Sector': sector, 'Price': price,\n",
    "            'PriceToBook': priceToBook, 'DeptToEquity': debtToEquity,\n",
    "            'ForwardEPS': forwardEps, 'TrailingEPS': trailingEps, 'ProfitMargins': profitMargins,\n",
    "            'RevenueGrowth': revenueGrowth, 'ShortRatio': shortRatio, 'ReturnOnAssets': returnOnAssets,\n",
    "            'ExtractDate': today}\n",
    "    info_list.append(dict)\n",
    "\n",
    "df = pd.DataFrame(info_list)\n",
    "df.head()"
   ]
  },
  {
   "cell_type": "code",
   "execution_count": 18,
   "metadata": {},
   "outputs": [],
   "source": [
    "stock_info = df.to_excel(f'stock_info_{today}.xlsx', index=False)"
   ]
  },
  {
   "cell_type": "code",
   "execution_count": 1,
   "metadata": {},
   "outputs": [],
   "source": [
    "#check to see if back up tomorrow\n",
    "#dividendRate = info['dividendRate']\n",
    "#'DividendRate': dividendRate"
   ]
  },
  {
   "cell_type": "code",
   "execution_count": null,
   "metadata": {},
   "outputs": [],
   "source": []
  }
 ],
 "metadata": {
  "kernelspec": {
   "display_name": "Python 3",
   "language": "python",
   "name": "python3"
  },
  "language_info": {
   "codemirror_mode": {
    "name": "ipython",
    "version": 3
   },
   "file_extension": ".py",
   "mimetype": "text/x-python",
   "name": "python",
   "nbconvert_exporter": "python",
   "pygments_lexer": "ipython3",
   "version": "3.10.4"
  },
  "orig_nbformat": 4
 },
 "nbformat": 4,
 "nbformat_minor": 2
}
