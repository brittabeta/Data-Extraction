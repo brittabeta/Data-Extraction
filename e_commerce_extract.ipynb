{
  "nbformat": 4,
  "nbformat_minor": 0,
  "metadata": {
    "colab": {
      "provenance": [],
      "authorship_tag": "ABX9TyP9gFB4igR2zLZteWQIlYo6",
      "include_colab_link": true
    },
    "kernelspec": {
      "name": "python3",
      "display_name": "Python 3"
    },
    "language_info": {
      "name": "python"
    }
  },
  "cells": [
    {
      "cell_type": "markdown",
      "metadata": {
        "id": "view-in-github",
        "colab_type": "text"
      },
      "source": [
        "<a href=\"https://colab.research.google.com/github/brittabeta/Data-Extraction/blob/main/e_commerce_extract.ipynb\" target=\"_parent\"><img src=\"https://colab.research.google.com/assets/colab-badge.svg\" alt=\"Open In Colab\"/></a>"
      ]
    },
    {
      "cell_type": "markdown",
      "source": [
        "# Extract Data from an Online Store\n",
        "\n",
        "*note: displayed customers and products are fictional*"
      ],
      "metadata": {
        "id": "xjDgWnenWNqq"
      }
    },
    {
      "cell_type": "markdown",
      "source": [
        "# Prepare "
      ],
      "metadata": {
        "id": "minrT9PYaTMI"
      }
    },
    {
      "cell_type": "code",
      "source": [
        "!pip install --upgrade ShopifyAPI"
      ],
      "metadata": {
        "colab": {
          "base_uri": "https://localhost:8080/"
        },
        "id": "zaI6BTGUVP62",
        "outputId": "ecb92827-9eb2-4c0e-9a5d-2d7856052423"
      },
      "execution_count": 61,
      "outputs": [
        {
          "output_type": "stream",
          "name": "stdout",
          "text": [
            "Looking in indexes: https://pypi.org/simple, https://us-python.pkg.dev/colab-wheels/public/simple/\n",
            "Collecting ShopifyAPI\n",
            "  Downloading ShopifyAPI-12.3.0.tar.gz (33 kB)\n",
            "  Installing build dependencies ... \u001b[?25l\u001b[?25hdone\n",
            "  Getting requirements to build wheel ... \u001b[?25l\u001b[?25hdone\n",
            "  Preparing metadata (pyproject.toml) ... \u001b[?25l\u001b[?25hdone\n",
            "Collecting pyactiveresource>=2.2.2 (from ShopifyAPI)\n",
            "  Downloading pyactiveresource-2.2.2.tar.gz (19 kB)\n",
            "  Preparing metadata (setup.py) ... \u001b[?25l\u001b[?25hdone\n",
            "Collecting PyJWT>=2.0.0 (from ShopifyAPI)\n",
            "  Downloading PyJWT-2.7.0-py3-none-any.whl (22 kB)\n",
            "Requirement already satisfied: PyYAML in /usr/local/lib/python3.10/dist-packages (from ShopifyAPI) (6.0)\n",
            "Requirement already satisfied: six in /usr/local/lib/python3.10/dist-packages (from ShopifyAPI) (1.16.0)\n",
            "Building wheels for collected packages: ShopifyAPI, pyactiveresource\n",
            "  Building wheel for ShopifyAPI (pyproject.toml) ... \u001b[?25l\u001b[?25hdone\n",
            "  Created wheel for ShopifyAPI: filename=ShopifyAPI-12.3.0-py3-none-any.whl size=46595 sha256=ed36380937c98e3b16764019a1499dfd5d388332ce90ba25b5bd5a38ea9b7e72\n",
            "  Stored in directory: /root/.cache/pip/wheels/b3/cc/5c/13a4c4e82a9d184a650e3df28b701ef27ea95c7258f54e1a22\n",
            "  Building wheel for pyactiveresource (setup.py) ... \u001b[?25l\u001b[?25hdone\n",
            "  Created wheel for pyactiveresource: filename=pyactiveresource-2.2.2-py3-none-any.whl size=23324 sha256=a898d0d27bb48ad21acba3a3d9fbd8864ef3d43b055fe10a1bdeb2317e6d4ff6\n",
            "  Stored in directory: /root/.cache/pip/wheels/48/28/af/08c9f6f84965d3eef47d6d468accd89769fd198f257ea84fd9\n",
            "Successfully built ShopifyAPI pyactiveresource\n",
            "Installing collected packages: PyJWT, pyactiveresource, ShopifyAPI\n",
            "Successfully installed PyJWT-2.7.0 ShopifyAPI-12.3.0 pyactiveresource-2.2.2\n"
          ]
        }
      ]
    },
    {
      "cell_type": "code",
      "source": [
        "# assign api secrets to variables\n",
        "f = '/content/shopify970.json' # file path\n",
        "\n",
        "df = pd.read_json(f, orient='index') # index because file is dict like\n",
        "\n",
        "token = df.loc['API_KEY', 0]\n",
        "str(token) # to add quotes to variable\n",
        "\n",
        "shop = df.loc['endpoint', 0]\n",
        "str(shop)\n",
        "\n",
        "merchant = 'store970.myshopify.com'\n",
        "\n",
        "print('secrets ready') # prevent print of secrets"
      ],
      "metadata": {
        "colab": {
          "base_uri": "https://localhost:8080/"
        },
        "id": "bmXKwsUy7O6l",
        "outputId": "c5a068f4-0718-4b8d-de7f-c9eb6edd4d69"
      },
      "execution_count": 55,
      "outputs": [
        {
          "output_type": "stream",
          "name": "stdout",
          "text": [
            "secrets ready\n"
          ]
        }
      ]
    },
    {
      "cell_type": "code",
      "source": [
        "# import tools\n",
        "import pandas as pd\n",
        "import shopify\n",
        "import urllib.request\n",
        "import json\n",
        "from IPython.utils.text import strip_email_quotes"
      ],
      "metadata": {
        "id": "AjRlUqbfZ1FR"
      },
      "execution_count": 62,
      "outputs": []
    },
    {
      "cell_type": "markdown",
      "source": [
        "# Contract and Connect"
      ],
      "metadata": {
        "id": "6IA_FjtfaNjx"
      }
    },
    {
      "cell_type": "code",
      "source": [
        "# define a function to create a connection and authenticate requests\n",
        "def shopify_client():\n",
        "  api_session = shopify.Session(merchant, '2023-04', token) # version see https://shopify.dev/docs/api/admin-graphql#authentication\n",
        "  shopify.ShopifyResource.activate_session(api_session)\n",
        "  client = shopify.GraphQL()\n",
        "  return client"
      ],
      "metadata": {
        "id": "oqiOoTX2btV3"
      },
      "execution_count": 72,
      "outputs": []
    },
    {
      "cell_type": "code",
      "source": [
        "# assign queries to variables\n",
        "products = \"\"\"\n",
        "query {\n",
        "  productVariants (first: 20) {\n",
        "    edges {\n",
        "      node {\n",
        "        id\n",
        "        displayName\n",
        "        title\n",
        "        sku\n",
        "        inventoryQuantity\n",
        "        price\n",
        "        inventoryItem {\n",
        "          requiresShipping\n",
        "        }\n",
        "      }\n",
        "    }\n",
        "  }\n",
        "  }\n",
        "  \"\"\""
      ],
      "metadata": {
        "id": "qMROeRKSdhGu"
      },
      "execution_count": 104,
      "outputs": []
    },
    {
      "cell_type": "code",
      "source": [
        "customers = \"\"\"\n",
        "query {\n",
        "  customers (first: 20) {\n",
        "    edges {\n",
        "      node {\n",
        "        id\n",
        "        firstName\n",
        "        lastName\n",
        "        email\n",
        "        locale\n",
        "        createdAt\n",
        "        updatedAt\n",
        "        numberOfOrders\n",
        "        amountSpent {\n",
        "          amount\n",
        "          currencyCode\n",
        "        }\n",
        "      }\n",
        "    }\n",
        "  }\n",
        "}\n",
        "\"\"\""
      ],
      "metadata": {
        "id": "ssIdZo-HjCip"
      },
      "execution_count": 154,
      "outputs": []
    },
    {
      "cell_type": "markdown",
      "source": [
        "# Query the Store: Extract Data"
      ],
      "metadata": {
        "id": "62dtqGRGaHvQ"
      }
    },
    {
      "cell_type": "code",
      "source": [
        "# open session and authentication\n",
        "client = shopify_client()\n",
        "# request data from store, argument=query\n",
        "data = json.loads(client.execute(customers))\n",
        "data"
      ],
      "metadata": {
        "colab": {
          "base_uri": "https://localhost:8080/"
        },
        "id": "JZ1D5X6smxJ8",
        "outputId": "425b329b-0ca8-49c0-9498-ac84e3318f99"
      },
      "execution_count": 96,
      "outputs": [
        {
          "output_type": "execute_result",
          "data": {
            "text/plain": [
              "{'data': {'customers': {'edges': [{'node': {'id': 'gid://shopify/Customer/6864981721377',\n",
              "      'firstName': 'Ayumu',\n",
              "      'lastName': 'Hirano',\n",
              "      'email': 'ayumu.hirano@example.com',\n",
              "      'locale': 'en',\n",
              "      'createdAt': '2023-03-10T18:11:14Z',\n",
              "      'updatedAt': '2023-03-10T18:11:21Z',\n",
              "      'numberOfOrders': '2',\n",
              "      'amountSpent': {'amount': '2859.8', 'currencyCode': 'USD'}}},\n",
              "    {'node': {'id': 'gid://shopify/Customer/6864981754145',\n",
              "      'firstName': 'Russell',\n",
              "      'lastName': 'Winfield',\n",
              "      'email': 'russel.winfield@example.com',\n",
              "      'locale': 'en',\n",
              "      'createdAt': '2023-03-10T18:11:14Z',\n",
              "      'updatedAt': '2023-03-10T18:11:23Z',\n",
              "      'numberOfOrders': '4',\n",
              "      'amountSpent': {'amount': '6656.19', 'currencyCode': 'USD'}}},\n",
              "    {'node': {'id': 'gid://shopify/Customer/6864981786913',\n",
              "      'firstName': 'Karine',\n",
              "      'lastName': 'Ruby',\n",
              "      'email': 'karine.ruby@example.com',\n",
              "      'locale': 'en',\n",
              "      'createdAt': '2023-03-10T18:11:14Z',\n",
              "      'updatedAt': '2023-03-10T18:11:23Z',\n",
              "      'numberOfOrders': '1',\n",
              "      'amountSpent': {'amount': '752.18', 'currencyCode': 'USD'}}}]}},\n",
              " 'extensions': {'cost': {'requestedQueryCost': 22,\n",
              "   'actualQueryCost': 5,\n",
              "   'throttleStatus': {'maximumAvailable': 1000.0,\n",
              "    'currentlyAvailable': 995,\n",
              "    'restoreRate': 50.0}}}}"
            ]
          },
          "metadata": {},
          "execution_count": 96
        }
      ]
    },
    {
      "cell_type": "code",
      "source": [
        "# request another query\n",
        "data2 =  json.loads(client.execute(products))\n",
        "data2"
      ],
      "metadata": {
        "colab": {
          "base_uri": "https://localhost:8080/"
        },
        "id": "5ZMCwd-9qrep",
        "outputId": "35bdf73a-a1aa-40d4-d5ea-2b10f1aeec02"
      },
      "execution_count": 106,
      "outputs": [
        {
          "output_type": "execute_result",
          "data": {
            "text/plain": [
              "{'data': {'productVariants': {'edges': [{'node': {'id': 'gid://shopify/ProductVariant/44692793524513',\n",
              "      'displayName': 'a - S',\n",
              "      'title': 'S',\n",
              "      'sku': 'A123',\n",
              "      'inventoryQuantity': 20,\n",
              "      'price': '1.00',\n",
              "      'inventoryItem': {'requiresShipping': True}}},\n",
              "    {'node': {'id': 'gid://shopify/ProductVariant/44692793557281',\n",
              "      'displayName': 'a - M',\n",
              "      'title': 'M',\n",
              "      'sku': 'A124',\n",
              "      'inventoryQuantity': 11,\n",
              "      'price': '1.00',\n",
              "      'inventoryItem': {'requiresShipping': True}}},\n",
              "    {'node': {'id': 'gid://shopify/ProductVariant/44692793590049',\n",
              "      'displayName': 'a - L',\n",
              "      'title': 'L',\n",
              "      'sku': 'A125',\n",
              "      'inventoryQuantity': 11,\n",
              "      'price': '1.00',\n",
              "      'inventoryItem': {'requiresShipping': True}}},\n",
              "    {'node': {'id': 'gid://shopify/ProductVariant/44692812661025',\n",
              "      'displayName': 'b - Yellow',\n",
              "      'title': 'Yellow',\n",
              "      'sku': 'B223',\n",
              "      'inventoryQuantity': 40,\n",
              "      'price': '2.00',\n",
              "      'inventoryItem': {'requiresShipping': True}}},\n",
              "    {'node': {'id': 'gid://shopify/ProductVariant/44692812693793',\n",
              "      'displayName': 'b - Green',\n",
              "      'title': 'Green',\n",
              "      'sku': 'B224',\n",
              "      'inventoryQuantity': 21,\n",
              "      'price': '2.00',\n",
              "      'inventoryItem': {'requiresShipping': True}}},\n",
              "    {'node': {'id': 'gid://shopify/ProductVariant/44692828389665',\n",
              "      'displayName': 'c - S',\n",
              "      'title': 'S',\n",
              "      'sku': 'C334',\n",
              "      'inventoryQuantity': 60,\n",
              "      'price': '3.00',\n",
              "      'inventoryItem': {'requiresShipping': True}}},\n",
              "    {'node': {'id': 'gid://shopify/ProductVariant/44692828422433',\n",
              "      'displayName': 'c - M',\n",
              "      'title': 'M',\n",
              "      'sku': 'C335',\n",
              "      'inventoryQuantity': 31,\n",
              "      'price': '3.00',\n",
              "      'inventoryItem': {'requiresShipping': True}}},\n",
              "    {'node': {'id': 'gid://shopify/ProductVariant/44692828455201',\n",
              "      'displayName': 'c - L',\n",
              "      'title': 'L',\n",
              "      'sku': 'C336',\n",
              "      'inventoryQuantity': 31,\n",
              "      'price': '3.00',\n",
              "      'inventoryItem': {'requiresShipping': True}}},\n",
              "    {'node': {'id': 'gid://shopify/ProductVariant/44692852834593',\n",
              "      'displayName': 'd - Black',\n",
              "      'title': 'Black',\n",
              "      'sku': 'D434',\n",
              "      'inventoryQuantity': 80,\n",
              "      'price': '4.00',\n",
              "      'inventoryItem': {'requiresShipping': True}}},\n",
              "    {'node': {'id': 'gid://shopify/ProductVariant/44692852867361',\n",
              "      'displayName': 'd - Gold',\n",
              "      'title': 'Gold',\n",
              "      'sku': 'D435',\n",
              "      'inventoryQuantity': 40,\n",
              "      'price': '4.00',\n",
              "      'inventoryItem': {'requiresShipping': True}}},\n",
              "    {'node': {'id': 'gid://shopify/ProductVariant/44692870136097',\n",
              "      'displayName': 'e - S',\n",
              "      'title': 'S',\n",
              "      'sku': 'E523',\n",
              "      'inventoryQuantity': 100,\n",
              "      'price': '5.00',\n",
              "      'inventoryItem': {'requiresShipping': True}}},\n",
              "    {'node': {'id': 'gid://shopify/ProductVariant/44692870168865',\n",
              "      'displayName': 'e - M',\n",
              "      'title': 'M',\n",
              "      'sku': 'E524',\n",
              "      'inventoryQuantity': 51,\n",
              "      'price': '5.00',\n",
              "      'inventoryItem': {'requiresShipping': True}}},\n",
              "    {'node': {'id': 'gid://shopify/ProductVariant/44692870201633',\n",
              "      'displayName': 'e - L',\n",
              "      'title': 'L',\n",
              "      'sku': 'E525',\n",
              "      'inventoryQuantity': 52,\n",
              "      'price': '5.00',\n",
              "      'inventoryItem': {'requiresShipping': True}}},\n",
              "    {'node': {'id': 'gid://shopify/ProductVariant/44692884619553',\n",
              "      'displayName': 'f - Green',\n",
              "      'title': 'Green',\n",
              "      'sku': 'F612',\n",
              "      'inventoryQuantity': 32,\n",
              "      'price': '6.00',\n",
              "      'inventoryItem': {'requiresShipping': True}}},\n",
              "    {'node': {'id': 'gid://shopify/ProductVariant/44692884652321',\n",
              "      'displayName': 'f - Brown',\n",
              "      'title': 'Brown',\n",
              "      'sku': 'F613',\n",
              "      'inventoryQuantity': 15,\n",
              "      'price': '6.00',\n",
              "      'inventoryItem': {'requiresShipping': True}}},\n",
              "    {'node': {'id': 'gid://shopify/ProductVariant/44692890583329',\n",
              "      'displayName': 'g - S',\n",
              "      'title': 'S',\n",
              "      'sku': 'G712',\n",
              "      'inventoryQuantity': 34,\n",
              "      'price': '7.00',\n",
              "      'inventoryItem': {'requiresShipping': True}}},\n",
              "    {'node': {'id': 'gid://shopify/ProductVariant/44692890616097',\n",
              "      'displayName': 'g - M',\n",
              "      'title': 'M',\n",
              "      'sku': 'G713',\n",
              "      'inventoryQuantity': 17,\n",
              "      'price': '7.00',\n",
              "      'inventoryItem': {'requiresShipping': True}}},\n",
              "    {'node': {'id': 'gid://shopify/ProductVariant/44692890648865',\n",
              "      'displayName': 'g - L',\n",
              "      'title': 'L',\n",
              "      'sku': 'G714',\n",
              "      'inventoryQuantity': 16,\n",
              "      'price': '7.00',\n",
              "      'inventoryItem': {'requiresShipping': True}}},\n",
              "    {'node': {'id': 'gid://shopify/ProductVariant/44692900544801',\n",
              "      'displayName': 'h - Green',\n",
              "      'title': 'Green',\n",
              "      'sku': 'H823',\n",
              "      'inventoryQuantity': 36,\n",
              "      'price': '8.00',\n",
              "      'inventoryItem': {'requiresShipping': True}}},\n",
              "    {'node': {'id': 'gid://shopify/ProductVariant/44692900577569',\n",
              "      'displayName': 'h - Brown',\n",
              "      'title': 'Brown',\n",
              "      'sku': 'H824',\n",
              "      'inventoryQuantity': 18,\n",
              "      'price': '8.00',\n",
              "      'inventoryItem': {'requiresShipping': True}}}]}},\n",
              " 'extensions': {'cost': {'requestedQueryCost': 42,\n",
              "   'actualQueryCost': 42,\n",
              "   'throttleStatus': {'maximumAvailable': 1000.0,\n",
              "    'currentlyAvailable': 958,\n",
              "    'restoreRate': 50.0}}}}"
            ]
          },
          "metadata": {},
          "execution_count": 106
        }
      ]
    },
    {
      "cell_type": "markdown",
      "source": [
        "### Bulk Query for Large Requests"
      ],
      "metadata": {
        "id": "JONakj1oZ4j3"
      }
    },
    {
      "cell_type": "code",
      "source": [
        "# running a bulk operation mutation for large query\n",
        "def bulk_operation(query):\n",
        "  q=\"\"\"\n",
        "  mutation {{\n",
        "    bulkOperationRunQuery(\n",
        "  query:\\\"\"\"{query}\\\"\"\"\n",
        "    ) {{\n",
        "      bulkOperation {{\n",
        "        id\n",
        "        status\n",
        "        }}\n",
        "        userErrors {{\n",
        "          field\n",
        "          message\n",
        "         }}\n",
        "       }}\n",
        "     }}\n",
        "      \"\"\".format(query=query)\n",
        "  return q\n",
        "  # query to check status \n",
        "  q_bulk_status=\"\"\"\n",
        "  query bulkStatus($id: ID!) {\n",
        "    node (id: $id) {\n",
        "      ... on BulkOperation {\n",
        "        id\n",
        "        status\n",
        "        errorCode\n",
        "        createdAt\n",
        "        completedAt\n",
        "        objectCount\n",
        "        fileSize\n",
        "        url\n",
        "        partialDataUrl\n",
        "      }\n",
        "    }\n",
        "  }\n",
        "  \"\"\""
      ],
      "metadata": {
        "id": "ZblorhZH0yJO"
      },
      "execution_count": 161,
      "outputs": []
    },
    {
      "cell_type": "code",
      "source": [
        "  # query to check status \n",
        "q_bulk_status=\"\"\"\n",
        "  query bulkStatus($id: ID!) {\n",
        "    node (id: $id) {\n",
        "      ... on BulkOperation {\n",
        "        id\n",
        "        status\n",
        "        errorCode\n",
        "        createdAt\n",
        "        completedAt\n",
        "        objectCount\n",
        "        fileSize\n",
        "        url\n",
        "        partialDataUrl\n",
        "      }\n",
        "    }\n",
        "  }\n",
        "  \"\"\""
      ],
      "metadata": {
        "id": "pF3stNHL2ALN"
      },
      "execution_count": 162,
      "outputs": []
    },
    {
      "cell_type": "code",
      "source": [
        "def bulk_status(client,bulk):\n",
        "  bulk_id=json.loads(bulk)['data']['bulkOperationRunQuery']['bulkOperation']['id']\n",
        "  status=json.loads(client.execute(q_bulk_status,{'id':bulk_id}))\n",
        "  return status"
      ],
      "metadata": {
        "id": "9zgQy0fS2OPs"
      },
      "execution_count": 163,
      "outputs": []
    },
    {
      "cell_type": "code",
      "source": [
        "bulk_query = bulk_operation(customers)\n",
        "bulk = client.execute(bulk_query)\n",
        "bulk # but wait...see more"
      ],
      "metadata": {
        "colab": {
          "base_uri": "https://localhost:8080/",
          "height": 53
        },
        "id": "Y9XyYTN93gkw",
        "outputId": "572f7612-9105-443e-8c64-ad7e34694e5a"
      },
      "execution_count": 165,
      "outputs": [
        {
          "output_type": "execute_result",
          "data": {
            "text/plain": [
              "'{\"data\":{\"bulkOperationRunQuery\":{\"bulkOperation\":{\"id\":\"gid://shopify/BulkOperation/3210129244449\",\"status\":\"CREATED\"},\"userErrors\":[]}},\"extensions\":{\"cost\":{\"requestedQueryCost\":10,\"actualQueryCost\":10,\"throttleStatus\":{\"maximumAvailable\":1000.0,\"currentlyAvailable\":990,\"restoreRate\":50.0}}}}'"
            ],
            "application/vnd.google.colaboratory.intrinsic+json": {
              "type": "string"
            }
          },
          "metadata": {},
          "execution_count": 165
        }
      ]
    },
    {
      "cell_type": "code",
      "source": [
        "status=bulk_status(client,bulk)\n",
        "status"
      ],
      "metadata": {
        "colab": {
          "base_uri": "https://localhost:8080/"
        },
        "id": "xE0RdNEn3nT0",
        "outputId": "aaf1433e-24fb-42dc-c20a-8bb04c4ba398"
      },
      "execution_count": 160,
      "outputs": [
        {
          "output_type": "execute_result",
          "data": {
            "text/plain": [
              "{'data': {'node': {'id': 'gid://shopify/BulkOperation/3210121937185',\n",
              "   'status': 'COMPLETED',\n",
              "   'errorCode': None,\n",
              "   'createdAt': '2023-05-24T17:45:50Z',\n",
              "   'completedAt': '2023-05-24T17:45:50Z',\n",
              "   'objectCount': '3',\n",
              "   'fileSize': '861',\n",
              "   'url': 'https://storage.googleapis.com/shopify-tiers-assets-prod-us-east1/6nbwx6dz1jv3fk1ek8d5a1wyyq6h?GoogleAccessId=assets-us-prod%40shopify-tiers.iam.gserviceaccount.com&Expires=1685555150&Signature=epz5oLb8s9ZlmttLAMoCfp42XpPNQsiSLUwvwC3JTVUNNq%2FWHQYAsubm9zWzMgynQ3EhqyOVWdXDMHAWRI9bkjj19bNk2i86QXmOfCB%2BqX4%2BvmxrIHnVj2vitKAD3A3AczzKtVcownuCkNh7vmHjzDU1DwZMjS1A%2FwCfwxzrcvgP2b85PBvlbyPTAL6HR0bifwz6%2BGKjSdlY9ZSxGYGrpn4wawTTEztcmlrc6zJKtIzVLyYRzvphJV8le7GaziksPemz%2B%2BPHGgT38fplsrulKj339ICG2LtDI238mIeZSzoxqxIShMx%2BpBpx5Ra7S8AS2WYrskPAJfSLFFtZKmsPMw%3D%3D&response-content-disposition=attachment%3B+filename%3D%22bulk-3210121937185.jsonl%22%3B+filename%2A%3DUTF-8%27%27bulk-3210121937185.jsonl&response-content-type=application%2Fjsonl',\n",
              "   'partialDataUrl': None}},\n",
              " 'extensions': {'cost': {'requestedQueryCost': 1,\n",
              "   'actualQueryCost': 1,\n",
              "   'throttleStatus': {'maximumAvailable': 1000.0,\n",
              "    'currentlyAvailable': 999,\n",
              "    'restoreRate': 50.0}}}}"
            ]
          },
          "metadata": {},
          "execution_count": 160
        }
      ]
    },
    {
      "cell_type": "markdown",
      "source": [
        "fetch data from url:\n",
        "```\n",
        "{\"id\":\"gid:\\/\\/shopify\\/Customer\\/6864981721377\",\"firstName\":\"Ayumu\",\"lastName\":\"Hirano\",\"email\":\"ayumu.hirano@example.com\",\"locale\":\"en\",\"createdAt\":\"2023-03-10T18:11:14Z\",\"updatedAt\":\"2023-03-10T18:11:21Z\",\"numberOfOrders\":\"2\",\"amountSpent\":{\"amount\":\"2859.8\",\"currencyCode\":\"USD\"}}\n",
        "{\"id\":\"gid:\\/\\/shopify\\/Customer\\/6864981754145\",\"firstName\":\"Russell\",\"lastName\":\"Winfield\",\"email\":\"russel.winfield@example.com\",\"locale\":\"en\",\"createdAt\":\"2023-03-10T18:11:14Z\",\"updatedAt\":\"2023-03-10T18:11:23Z\",\"numberOfOrders\":\"4\",\"amountSpent\":{\"amount\":\"6656.19\",\"currencyCode\":\"USD\"}}\n",
        "{\"id\":\"gid:\\/\\/shopify\\/Customer\\/6864981786913\",\"firstName\":\"Karine\",\"lastName\":\"Ruby\",\"email\":\"karine.ruby@example.com\",\"locale\":\"en\",\"createdAt\":\"2023-03-10T18:11:14Z\",\"updatedAt\":\"2023-03-10T18:11:23Z\",\"numberOfOrders\":\"1\",\"amountSpent\":{\"amount\":\"752.18\",\"currencyCode\":\"USD\"}}\n",
        "```"
      ],
      "metadata": {
        "id": "8GjfqdRb4ZfL"
      }
    },
    {
      "cell_type": "markdown",
      "source": [
        "# Clean and Create"
      ],
      "metadata": {
        "id": "Ft300MpTZsZI"
      }
    },
    {
      "cell_type": "code",
      "source": [
        "# or fetch data from url with below\n",
        "# clean and create dataframe\n",
        "def fetch_bulk(bulk_status):\n",
        "  b = status['data']['node']['url']\n",
        "  bulk_df = pd.read_json(b, lines=True)\n",
        "  amount_ = []\n",
        "  currency_code = []\n",
        "  for i in list(bulk_df.index): \n",
        "    a = float(bulk_df['amountSpent'][i]['amount'])\n",
        "    b = strip_email_quotes(bulk_df['amountSpent'][i]['currencyCode'])\n",
        "    amount_.append(a)\n",
        "    currency_code.append(b)\n",
        "  bulk_df['amount'] = amount_\n",
        "  bulk_df['currency_code'] = currency_code\n",
        "  bulk_df.drop('amountSpent', axis=1, inplace=True)\n",
        "  return bulk_df"
      ],
      "metadata": {
        "id": "30cOyxQgBjVT"
      },
      "execution_count": 238,
      "outputs": []
    },
    {
      "cell_type": "code",
      "source": [
        "fetch_bulk(status)"
      ],
      "metadata": {
        "colab": {
          "base_uri": "https://localhost:8080/",
          "height": 259
        },
        "id": "Nj4LYjyuD_wL",
        "outputId": "d58a46b0-ea59-4d51-b723-dac73667f01d"
      },
      "execution_count": 239,
      "outputs": [
        {
          "output_type": "execute_result",
          "data": {
            "text/plain": [
              "                                     id firstName  lastName  \\\n",
              "0  gid://shopify/Customer/6864981721377     Ayumu    Hirano   \n",
              "1  gid://shopify/Customer/6864981754145   Russell  Winfield   \n",
              "2  gid://shopify/Customer/6864981786913    Karine      Ruby   \n",
              "\n",
              "                         email locale             createdAt  \\\n",
              "0     ayumu.hirano@example.com     en  2023-03-10T18:11:14Z   \n",
              "1  russel.winfield@example.com     en  2023-03-10T18:11:14Z   \n",
              "2      karine.ruby@example.com     en  2023-03-10T18:11:14Z   \n",
              "\n",
              "              updatedAt  numberOfOrders   amount currency_code  \n",
              "0  2023-03-10T18:11:21Z               2  2859.80           USD  \n",
              "1  2023-03-10T18:11:23Z               4  6656.19           USD  \n",
              "2  2023-03-10T18:11:23Z               1   752.18           USD  "
            ],
            "text/html": [
              "\n",
              "  <div id=\"df-4fda7b45-65ce-4285-aa58-3bfcbf8776ef\">\n",
              "    <div class=\"colab-df-container\">\n",
              "      <div>\n",
              "<style scoped>\n",
              "    .dataframe tbody tr th:only-of-type {\n",
              "        vertical-align: middle;\n",
              "    }\n",
              "\n",
              "    .dataframe tbody tr th {\n",
              "        vertical-align: top;\n",
              "    }\n",
              "\n",
              "    .dataframe thead th {\n",
              "        text-align: right;\n",
              "    }\n",
              "</style>\n",
              "<table border=\"1\" class=\"dataframe\">\n",
              "  <thead>\n",
              "    <tr style=\"text-align: right;\">\n",
              "      <th></th>\n",
              "      <th>id</th>\n",
              "      <th>firstName</th>\n",
              "      <th>lastName</th>\n",
              "      <th>email</th>\n",
              "      <th>locale</th>\n",
              "      <th>createdAt</th>\n",
              "      <th>updatedAt</th>\n",
              "      <th>numberOfOrders</th>\n",
              "      <th>amount</th>\n",
              "      <th>currency_code</th>\n",
              "    </tr>\n",
              "  </thead>\n",
              "  <tbody>\n",
              "    <tr>\n",
              "      <th>0</th>\n",
              "      <td>gid://shopify/Customer/6864981721377</td>\n",
              "      <td>Ayumu</td>\n",
              "      <td>Hirano</td>\n",
              "      <td>ayumu.hirano@example.com</td>\n",
              "      <td>en</td>\n",
              "      <td>2023-03-10T18:11:14Z</td>\n",
              "      <td>2023-03-10T18:11:21Z</td>\n",
              "      <td>2</td>\n",
              "      <td>2859.80</td>\n",
              "      <td>USD</td>\n",
              "    </tr>\n",
              "    <tr>\n",
              "      <th>1</th>\n",
              "      <td>gid://shopify/Customer/6864981754145</td>\n",
              "      <td>Russell</td>\n",
              "      <td>Winfield</td>\n",
              "      <td>russel.winfield@example.com</td>\n",
              "      <td>en</td>\n",
              "      <td>2023-03-10T18:11:14Z</td>\n",
              "      <td>2023-03-10T18:11:23Z</td>\n",
              "      <td>4</td>\n",
              "      <td>6656.19</td>\n",
              "      <td>USD</td>\n",
              "    </tr>\n",
              "    <tr>\n",
              "      <th>2</th>\n",
              "      <td>gid://shopify/Customer/6864981786913</td>\n",
              "      <td>Karine</td>\n",
              "      <td>Ruby</td>\n",
              "      <td>karine.ruby@example.com</td>\n",
              "      <td>en</td>\n",
              "      <td>2023-03-10T18:11:14Z</td>\n",
              "      <td>2023-03-10T18:11:23Z</td>\n",
              "      <td>1</td>\n",
              "      <td>752.18</td>\n",
              "      <td>USD</td>\n",
              "    </tr>\n",
              "  </tbody>\n",
              "</table>\n",
              "</div>\n",
              "      <button class=\"colab-df-convert\" onclick=\"convertToInteractive('df-4fda7b45-65ce-4285-aa58-3bfcbf8776ef')\"\n",
              "              title=\"Convert this dataframe to an interactive table.\"\n",
              "              style=\"display:none;\">\n",
              "        \n",
              "  <svg xmlns=\"http://www.w3.org/2000/svg\" height=\"24px\"viewBox=\"0 0 24 24\"\n",
              "       width=\"24px\">\n",
              "    <path d=\"M0 0h24v24H0V0z\" fill=\"none\"/>\n",
              "    <path d=\"M18.56 5.44l.94 2.06.94-2.06 2.06-.94-2.06-.94-.94-2.06-.94 2.06-2.06.94zm-11 1L8.5 8.5l.94-2.06 2.06-.94-2.06-.94L8.5 2.5l-.94 2.06-2.06.94zm10 10l.94 2.06.94-2.06 2.06-.94-2.06-.94-.94-2.06-.94 2.06-2.06.94z\"/><path d=\"M17.41 7.96l-1.37-1.37c-.4-.4-.92-.59-1.43-.59-.52 0-1.04.2-1.43.59L10.3 9.45l-7.72 7.72c-.78.78-.78 2.05 0 2.83L4 21.41c.39.39.9.59 1.41.59.51 0 1.02-.2 1.41-.59l7.78-7.78 2.81-2.81c.8-.78.8-2.07 0-2.86zM5.41 20L4 18.59l7.72-7.72 1.47 1.35L5.41 20z\"/>\n",
              "  </svg>\n",
              "      </button>\n",
              "      \n",
              "  <style>\n",
              "    .colab-df-container {\n",
              "      display:flex;\n",
              "      flex-wrap:wrap;\n",
              "      gap: 12px;\n",
              "    }\n",
              "\n",
              "    .colab-df-convert {\n",
              "      background-color: #E8F0FE;\n",
              "      border: none;\n",
              "      border-radius: 50%;\n",
              "      cursor: pointer;\n",
              "      display: none;\n",
              "      fill: #1967D2;\n",
              "      height: 32px;\n",
              "      padding: 0 0 0 0;\n",
              "      width: 32px;\n",
              "    }\n",
              "\n",
              "    .colab-df-convert:hover {\n",
              "      background-color: #E2EBFA;\n",
              "      box-shadow: 0px 1px 2px rgba(60, 64, 67, 0.3), 0px 1px 3px 1px rgba(60, 64, 67, 0.15);\n",
              "      fill: #174EA6;\n",
              "    }\n",
              "\n",
              "    [theme=dark] .colab-df-convert {\n",
              "      background-color: #3B4455;\n",
              "      fill: #D2E3FC;\n",
              "    }\n",
              "\n",
              "    [theme=dark] .colab-df-convert:hover {\n",
              "      background-color: #434B5C;\n",
              "      box-shadow: 0px 1px 3px 1px rgba(0, 0, 0, 0.15);\n",
              "      filter: drop-shadow(0px 1px 2px rgba(0, 0, 0, 0.3));\n",
              "      fill: #FFFFFF;\n",
              "    }\n",
              "  </style>\n",
              "\n",
              "      <script>\n",
              "        const buttonEl =\n",
              "          document.querySelector('#df-4fda7b45-65ce-4285-aa58-3bfcbf8776ef button.colab-df-convert');\n",
              "        buttonEl.style.display =\n",
              "          google.colab.kernel.accessAllowed ? 'block' : 'none';\n",
              "\n",
              "        async function convertToInteractive(key) {\n",
              "          const element = document.querySelector('#df-4fda7b45-65ce-4285-aa58-3bfcbf8776ef');\n",
              "          const dataTable =\n",
              "            await google.colab.kernel.invokeFunction('convertToInteractive',\n",
              "                                                     [key], {});\n",
              "          if (!dataTable) return;\n",
              "\n",
              "          const docLinkHtml = 'Like what you see? Visit the ' +\n",
              "            '<a target=\"_blank\" href=https://colab.research.google.com/notebooks/data_table.ipynb>data table notebook</a>'\n",
              "            + ' to learn more about interactive tables.';\n",
              "          element.innerHTML = '';\n",
              "          dataTable['output_type'] = 'display_data';\n",
              "          await google.colab.output.renderOutput(dataTable, element);\n",
              "          const docLink = document.createElement('div');\n",
              "          docLink.innerHTML = docLinkHtml;\n",
              "          element.appendChild(docLink);\n",
              "        }\n",
              "      </script>\n",
              "    </div>\n",
              "  </div>\n",
              "  "
            ]
          },
          "metadata": {},
          "execution_count": 239
        }
      ]
    },
    {
      "cell_type": "code",
      "source": [
        "# clean and create dataframe\n",
        "def product_dataframe(data2):\n",
        "  d = data2['data']['productVariants']['edges']\n",
        "  a = pd.json_normalize(d)\n",
        "  lista = list(a.columns)\n",
        "  cols = list(map(lambda x: x.replace('node.', ''), lista))\n",
        "  a.columns = cols\n",
        "  product_df = a.copy()\n",
        "  return product_df"
      ],
      "metadata": {
        "id": "H97nYuKIJWM3"
      },
      "execution_count": 283,
      "outputs": []
    },
    {
      "cell_type": "code",
      "source": [
        "product_dataframe(data2)"
      ],
      "metadata": {
        "colab": {
          "base_uri": "https://localhost:8080/",
          "height": 676
        },
        "id": "q9C3cU4sODBb",
        "outputId": "443e7c37-3cf0-4a8c-f179-68898d33a360"
      },
      "execution_count": 284,
      "outputs": [
        {
          "output_type": "execute_result",
          "data": {
            "text/plain": [
              "                                             id displayName   title   sku  \\\n",
              "0   gid://shopify/ProductVariant/44692793524513       a - S       S  A123   \n",
              "1   gid://shopify/ProductVariant/44692793557281       a - M       M  A124   \n",
              "2   gid://shopify/ProductVariant/44692793590049       a - L       L  A125   \n",
              "3   gid://shopify/ProductVariant/44692812661025  b - Yellow  Yellow  B223   \n",
              "4   gid://shopify/ProductVariant/44692812693793   b - Green   Green  B224   \n",
              "5   gid://shopify/ProductVariant/44692828389665       c - S       S  C334   \n",
              "6   gid://shopify/ProductVariant/44692828422433       c - M       M  C335   \n",
              "7   gid://shopify/ProductVariant/44692828455201       c - L       L  C336   \n",
              "8   gid://shopify/ProductVariant/44692852834593   d - Black   Black  D434   \n",
              "9   gid://shopify/ProductVariant/44692852867361    d - Gold    Gold  D435   \n",
              "10  gid://shopify/ProductVariant/44692870136097       e - S       S  E523   \n",
              "11  gid://shopify/ProductVariant/44692870168865       e - M       M  E524   \n",
              "12  gid://shopify/ProductVariant/44692870201633       e - L       L  E525   \n",
              "13  gid://shopify/ProductVariant/44692884619553   f - Green   Green  F612   \n",
              "14  gid://shopify/ProductVariant/44692884652321   f - Brown   Brown  F613   \n",
              "15  gid://shopify/ProductVariant/44692890583329       g - S       S  G712   \n",
              "16  gid://shopify/ProductVariant/44692890616097       g - M       M  G713   \n",
              "17  gid://shopify/ProductVariant/44692890648865       g - L       L  G714   \n",
              "18  gid://shopify/ProductVariant/44692900544801   h - Green   Green  H823   \n",
              "19  gid://shopify/ProductVariant/44692900577569   h - Brown   Brown  H824   \n",
              "\n",
              "    inventoryQuantity price  inventoryItem.requiresShipping  \n",
              "0                  20  1.00                            True  \n",
              "1                  11  1.00                            True  \n",
              "2                  11  1.00                            True  \n",
              "3                  40  2.00                            True  \n",
              "4                  21  2.00                            True  \n",
              "5                  60  3.00                            True  \n",
              "6                  31  3.00                            True  \n",
              "7                  31  3.00                            True  \n",
              "8                  80  4.00                            True  \n",
              "9                  40  4.00                            True  \n",
              "10                100  5.00                            True  \n",
              "11                 51  5.00                            True  \n",
              "12                 52  5.00                            True  \n",
              "13                 32  6.00                            True  \n",
              "14                 15  6.00                            True  \n",
              "15                 34  7.00                            True  \n",
              "16                 17  7.00                            True  \n",
              "17                 16  7.00                            True  \n",
              "18                 36  8.00                            True  \n",
              "19                 18  8.00                            True  "
            ],
            "text/html": [
              "\n",
              "  <div id=\"df-5be78b10-cfb7-44e2-9841-4911be2cb287\">\n",
              "    <div class=\"colab-df-container\">\n",
              "      <div>\n",
              "<style scoped>\n",
              "    .dataframe tbody tr th:only-of-type {\n",
              "        vertical-align: middle;\n",
              "    }\n",
              "\n",
              "    .dataframe tbody tr th {\n",
              "        vertical-align: top;\n",
              "    }\n",
              "\n",
              "    .dataframe thead th {\n",
              "        text-align: right;\n",
              "    }\n",
              "</style>\n",
              "<table border=\"1\" class=\"dataframe\">\n",
              "  <thead>\n",
              "    <tr style=\"text-align: right;\">\n",
              "      <th></th>\n",
              "      <th>id</th>\n",
              "      <th>displayName</th>\n",
              "      <th>title</th>\n",
              "      <th>sku</th>\n",
              "      <th>inventoryQuantity</th>\n",
              "      <th>price</th>\n",
              "      <th>inventoryItem.requiresShipping</th>\n",
              "    </tr>\n",
              "  </thead>\n",
              "  <tbody>\n",
              "    <tr>\n",
              "      <th>0</th>\n",
              "      <td>gid://shopify/ProductVariant/44692793524513</td>\n",
              "      <td>a - S</td>\n",
              "      <td>S</td>\n",
              "      <td>A123</td>\n",
              "      <td>20</td>\n",
              "      <td>1.00</td>\n",
              "      <td>True</td>\n",
              "    </tr>\n",
              "    <tr>\n",
              "      <th>1</th>\n",
              "      <td>gid://shopify/ProductVariant/44692793557281</td>\n",
              "      <td>a - M</td>\n",
              "      <td>M</td>\n",
              "      <td>A124</td>\n",
              "      <td>11</td>\n",
              "      <td>1.00</td>\n",
              "      <td>True</td>\n",
              "    </tr>\n",
              "    <tr>\n",
              "      <th>2</th>\n",
              "      <td>gid://shopify/ProductVariant/44692793590049</td>\n",
              "      <td>a - L</td>\n",
              "      <td>L</td>\n",
              "      <td>A125</td>\n",
              "      <td>11</td>\n",
              "      <td>1.00</td>\n",
              "      <td>True</td>\n",
              "    </tr>\n",
              "    <tr>\n",
              "      <th>3</th>\n",
              "      <td>gid://shopify/ProductVariant/44692812661025</td>\n",
              "      <td>b - Yellow</td>\n",
              "      <td>Yellow</td>\n",
              "      <td>B223</td>\n",
              "      <td>40</td>\n",
              "      <td>2.00</td>\n",
              "      <td>True</td>\n",
              "    </tr>\n",
              "    <tr>\n",
              "      <th>4</th>\n",
              "      <td>gid://shopify/ProductVariant/44692812693793</td>\n",
              "      <td>b - Green</td>\n",
              "      <td>Green</td>\n",
              "      <td>B224</td>\n",
              "      <td>21</td>\n",
              "      <td>2.00</td>\n",
              "      <td>True</td>\n",
              "    </tr>\n",
              "    <tr>\n",
              "      <th>5</th>\n",
              "      <td>gid://shopify/ProductVariant/44692828389665</td>\n",
              "      <td>c - S</td>\n",
              "      <td>S</td>\n",
              "      <td>C334</td>\n",
              "      <td>60</td>\n",
              "      <td>3.00</td>\n",
              "      <td>True</td>\n",
              "    </tr>\n",
              "    <tr>\n",
              "      <th>6</th>\n",
              "      <td>gid://shopify/ProductVariant/44692828422433</td>\n",
              "      <td>c - M</td>\n",
              "      <td>M</td>\n",
              "      <td>C335</td>\n",
              "      <td>31</td>\n",
              "      <td>3.00</td>\n",
              "      <td>True</td>\n",
              "    </tr>\n",
              "    <tr>\n",
              "      <th>7</th>\n",
              "      <td>gid://shopify/ProductVariant/44692828455201</td>\n",
              "      <td>c - L</td>\n",
              "      <td>L</td>\n",
              "      <td>C336</td>\n",
              "      <td>31</td>\n",
              "      <td>3.00</td>\n",
              "      <td>True</td>\n",
              "    </tr>\n",
              "    <tr>\n",
              "      <th>8</th>\n",
              "      <td>gid://shopify/ProductVariant/44692852834593</td>\n",
              "      <td>d - Black</td>\n",
              "      <td>Black</td>\n",
              "      <td>D434</td>\n",
              "      <td>80</td>\n",
              "      <td>4.00</td>\n",
              "      <td>True</td>\n",
              "    </tr>\n",
              "    <tr>\n",
              "      <th>9</th>\n",
              "      <td>gid://shopify/ProductVariant/44692852867361</td>\n",
              "      <td>d - Gold</td>\n",
              "      <td>Gold</td>\n",
              "      <td>D435</td>\n",
              "      <td>40</td>\n",
              "      <td>4.00</td>\n",
              "      <td>True</td>\n",
              "    </tr>\n",
              "    <tr>\n",
              "      <th>10</th>\n",
              "      <td>gid://shopify/ProductVariant/44692870136097</td>\n",
              "      <td>e - S</td>\n",
              "      <td>S</td>\n",
              "      <td>E523</td>\n",
              "      <td>100</td>\n",
              "      <td>5.00</td>\n",
              "      <td>True</td>\n",
              "    </tr>\n",
              "    <tr>\n",
              "      <th>11</th>\n",
              "      <td>gid://shopify/ProductVariant/44692870168865</td>\n",
              "      <td>e - M</td>\n",
              "      <td>M</td>\n",
              "      <td>E524</td>\n",
              "      <td>51</td>\n",
              "      <td>5.00</td>\n",
              "      <td>True</td>\n",
              "    </tr>\n",
              "    <tr>\n",
              "      <th>12</th>\n",
              "      <td>gid://shopify/ProductVariant/44692870201633</td>\n",
              "      <td>e - L</td>\n",
              "      <td>L</td>\n",
              "      <td>E525</td>\n",
              "      <td>52</td>\n",
              "      <td>5.00</td>\n",
              "      <td>True</td>\n",
              "    </tr>\n",
              "    <tr>\n",
              "      <th>13</th>\n",
              "      <td>gid://shopify/ProductVariant/44692884619553</td>\n",
              "      <td>f - Green</td>\n",
              "      <td>Green</td>\n",
              "      <td>F612</td>\n",
              "      <td>32</td>\n",
              "      <td>6.00</td>\n",
              "      <td>True</td>\n",
              "    </tr>\n",
              "    <tr>\n",
              "      <th>14</th>\n",
              "      <td>gid://shopify/ProductVariant/44692884652321</td>\n",
              "      <td>f - Brown</td>\n",
              "      <td>Brown</td>\n",
              "      <td>F613</td>\n",
              "      <td>15</td>\n",
              "      <td>6.00</td>\n",
              "      <td>True</td>\n",
              "    </tr>\n",
              "    <tr>\n",
              "      <th>15</th>\n",
              "      <td>gid://shopify/ProductVariant/44692890583329</td>\n",
              "      <td>g - S</td>\n",
              "      <td>S</td>\n",
              "      <td>G712</td>\n",
              "      <td>34</td>\n",
              "      <td>7.00</td>\n",
              "      <td>True</td>\n",
              "    </tr>\n",
              "    <tr>\n",
              "      <th>16</th>\n",
              "      <td>gid://shopify/ProductVariant/44692890616097</td>\n",
              "      <td>g - M</td>\n",
              "      <td>M</td>\n",
              "      <td>G713</td>\n",
              "      <td>17</td>\n",
              "      <td>7.00</td>\n",
              "      <td>True</td>\n",
              "    </tr>\n",
              "    <tr>\n",
              "      <th>17</th>\n",
              "      <td>gid://shopify/ProductVariant/44692890648865</td>\n",
              "      <td>g - L</td>\n",
              "      <td>L</td>\n",
              "      <td>G714</td>\n",
              "      <td>16</td>\n",
              "      <td>7.00</td>\n",
              "      <td>True</td>\n",
              "    </tr>\n",
              "    <tr>\n",
              "      <th>18</th>\n",
              "      <td>gid://shopify/ProductVariant/44692900544801</td>\n",
              "      <td>h - Green</td>\n",
              "      <td>Green</td>\n",
              "      <td>H823</td>\n",
              "      <td>36</td>\n",
              "      <td>8.00</td>\n",
              "      <td>True</td>\n",
              "    </tr>\n",
              "    <tr>\n",
              "      <th>19</th>\n",
              "      <td>gid://shopify/ProductVariant/44692900577569</td>\n",
              "      <td>h - Brown</td>\n",
              "      <td>Brown</td>\n",
              "      <td>H824</td>\n",
              "      <td>18</td>\n",
              "      <td>8.00</td>\n",
              "      <td>True</td>\n",
              "    </tr>\n",
              "  </tbody>\n",
              "</table>\n",
              "</div>\n",
              "      <button class=\"colab-df-convert\" onclick=\"convertToInteractive('df-5be78b10-cfb7-44e2-9841-4911be2cb287')\"\n",
              "              title=\"Convert this dataframe to an interactive table.\"\n",
              "              style=\"display:none;\">\n",
              "        \n",
              "  <svg xmlns=\"http://www.w3.org/2000/svg\" height=\"24px\"viewBox=\"0 0 24 24\"\n",
              "       width=\"24px\">\n",
              "    <path d=\"M0 0h24v24H0V0z\" fill=\"none\"/>\n",
              "    <path d=\"M18.56 5.44l.94 2.06.94-2.06 2.06-.94-2.06-.94-.94-2.06-.94 2.06-2.06.94zm-11 1L8.5 8.5l.94-2.06 2.06-.94-2.06-.94L8.5 2.5l-.94 2.06-2.06.94zm10 10l.94 2.06.94-2.06 2.06-.94-2.06-.94-.94-2.06-.94 2.06-2.06.94z\"/><path d=\"M17.41 7.96l-1.37-1.37c-.4-.4-.92-.59-1.43-.59-.52 0-1.04.2-1.43.59L10.3 9.45l-7.72 7.72c-.78.78-.78 2.05 0 2.83L4 21.41c.39.39.9.59 1.41.59.51 0 1.02-.2 1.41-.59l7.78-7.78 2.81-2.81c.8-.78.8-2.07 0-2.86zM5.41 20L4 18.59l7.72-7.72 1.47 1.35L5.41 20z\"/>\n",
              "  </svg>\n",
              "      </button>\n",
              "      \n",
              "  <style>\n",
              "    .colab-df-container {\n",
              "      display:flex;\n",
              "      flex-wrap:wrap;\n",
              "      gap: 12px;\n",
              "    }\n",
              "\n",
              "    .colab-df-convert {\n",
              "      background-color: #E8F0FE;\n",
              "      border: none;\n",
              "      border-radius: 50%;\n",
              "      cursor: pointer;\n",
              "      display: none;\n",
              "      fill: #1967D2;\n",
              "      height: 32px;\n",
              "      padding: 0 0 0 0;\n",
              "      width: 32px;\n",
              "    }\n",
              "\n",
              "    .colab-df-convert:hover {\n",
              "      background-color: #E2EBFA;\n",
              "      box-shadow: 0px 1px 2px rgba(60, 64, 67, 0.3), 0px 1px 3px 1px rgba(60, 64, 67, 0.15);\n",
              "      fill: #174EA6;\n",
              "    }\n",
              "\n",
              "    [theme=dark] .colab-df-convert {\n",
              "      background-color: #3B4455;\n",
              "      fill: #D2E3FC;\n",
              "    }\n",
              "\n",
              "    [theme=dark] .colab-df-convert:hover {\n",
              "      background-color: #434B5C;\n",
              "      box-shadow: 0px 1px 3px 1px rgba(0, 0, 0, 0.15);\n",
              "      filter: drop-shadow(0px 1px 2px rgba(0, 0, 0, 0.3));\n",
              "      fill: #FFFFFF;\n",
              "    }\n",
              "  </style>\n",
              "\n",
              "      <script>\n",
              "        const buttonEl =\n",
              "          document.querySelector('#df-5be78b10-cfb7-44e2-9841-4911be2cb287 button.colab-df-convert');\n",
              "        buttonEl.style.display =\n",
              "          google.colab.kernel.accessAllowed ? 'block' : 'none';\n",
              "\n",
              "        async function convertToInteractive(key) {\n",
              "          const element = document.querySelector('#df-5be78b10-cfb7-44e2-9841-4911be2cb287');\n",
              "          const dataTable =\n",
              "            await google.colab.kernel.invokeFunction('convertToInteractive',\n",
              "                                                     [key], {});\n",
              "          if (!dataTable) return;\n",
              "\n",
              "          const docLinkHtml = 'Like what you see? Visit the ' +\n",
              "            '<a target=\"_blank\" href=https://colab.research.google.com/notebooks/data_table.ipynb>data table notebook</a>'\n",
              "            + ' to learn more about interactive tables.';\n",
              "          element.innerHTML = '';\n",
              "          dataTable['output_type'] = 'display_data';\n",
              "          await google.colab.output.renderOutput(dataTable, element);\n",
              "          const docLink = document.createElement('div');\n",
              "          docLink.innerHTML = docLinkHtml;\n",
              "          element.appendChild(docLink);\n",
              "        }\n",
              "      </script>\n",
              "    </div>\n",
              "  </div>\n",
              "  "
            ]
          },
          "metadata": {},
          "execution_count": 284
        }
      ]
    },
    {
      "cell_type": "markdown",
      "source": [
        "# Export Spreadsheets"
      ],
      "metadata": {
        "id": "oOEomN7wZnlR"
      }
    },
    {
      "cell_type": "code",
      "source": [
        "# export spreadsheets\n",
        "product_file = product_dataframe(data2)\n",
        "product_file = product_file.to_csv('product_file.csv', index=False)"
      ],
      "metadata": {
        "id": "SjSVs8uDWXHw"
      },
      "execution_count": 290,
      "outputs": []
    },
    {
      "cell_type": "code",
      "source": [
        "customers_file = fetch_bulk(status)\n",
        "customers_file = customers_file.to_csv('customers_file.csv', index=False)"
      ],
      "metadata": {
        "id": "gU5daigOXGNS"
      },
      "execution_count": 291,
      "outputs": []
    },
    {
      "cell_type": "markdown",
      "source": [
        "[Shopify Python API](https://github.com/Shopify/shopify_python_api)"
      ],
      "metadata": {
        "id": "1Qd-FoKFGKr1"
      }
    }
  ]
}